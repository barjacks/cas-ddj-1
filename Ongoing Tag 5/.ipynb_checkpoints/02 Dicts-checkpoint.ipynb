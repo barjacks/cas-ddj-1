{
 "cells": [
  {
   "cell_type": "markdown",
   "metadata": {},
   "source": [
    "## Dictionaries in Python\n",
    "\n",
    "Dictionaries sind unglaublich praktisch, damit kannst du z. B. folgendes machen:\n",
    "\n",
    "- Du kannst Wertezuordnungen speichern (z.B. Telefonbuch: Ein Nachname hat eine Telefonnummer).\n",
    "- Du kannst nachträglich Elemente verändern / entfernen / hinzufügen.\n",
    "- Dictionaries brauchst du wirklich immer wieder...\n",
    "\n",
    "Machen wir mal ein Beispiel..."
   ]
  },
  {
   "cell_type": "code",
   "execution_count": null,
   "metadata": {},
   "outputs": [],
   "source": [
    "d = {\"Berlin\": \"BER\", \"Helsinki\": \"HEL\", \"Saigon\": \"SGN\"}"
   ]
  },
  {
   "cell_type": "code",
   "execution_count": null,
   "metadata": {},
   "outputs": [],
   "source": [
    "print(d)"
   ]
  },
  {
   "cell_type": "markdown",
   "metadata": {},
   "source": [
    "Zugriff auf ein einzelnes Element:"
   ]
  },
  {
   "cell_type": "code",
   "execution_count": null,
   "metadata": {},
   "outputs": [],
   "source": [
    "print(d[\"Helsinki\"])"
   ]
  },
  {
   "cell_type": "markdown",
   "metadata": {},
   "source": [
    "Hiermit überschreibst du ein einzelnes Element:"
   ]
  },
  {
   "cell_type": "code",
   "execution_count": null,
   "metadata": {},
   "outputs": [],
   "source": [
    "d[\"Budapest\"] = \"BUD\""
   ]
  },
  {
   "cell_type": "code",
   "execution_count": null,
   "metadata": {},
   "outputs": [],
   "source": [
    "print(d)"
   ]
  },
  {
   "cell_type": "markdown",
   "metadata": {},
   "source": [
    "## Übung"
   ]
  },
  {
   "cell_type": "markdown",
   "metadata": {},
   "source": [
    "Legt ein eigenes Dict für die schweiz an mit den Flughäfen und den Abkürzungen. "
   ]
  },
  {
   "cell_type": "code",
   "execution_count": null,
   "metadata": {},
   "outputs": [],
   "source": [
    "flughaefen = {'Zürich': 'ZRH', 'Bern': 'BER', 'Basel': 'BSL', 'Genf': 'GVA'}\n",
    "\n",
    "print(flughaefen)\n",
    "print(flughaefen['Zürich'])"
   ]
  },
  {
   "cell_type": "markdown",
   "metadata": {},
   "source": [
    "## Element entfernen"
   ]
  },
  {
   "cell_type": "code",
   "execution_count": null,
   "metadata": {},
   "outputs": [],
   "source": [
    "del d[\"Budapest\"]"
   ]
  },
  {
   "cell_type": "code",
   "execution_count": null,
   "metadata": {},
   "outputs": [],
   "source": [
    "print(d)"
   ]
  },
  {
   "cell_type": "markdown",
   "metadata": {},
   "source": [
    "## Abfrage: Ist ein Element im Dictionary?"
   ]
  },
  {
   "cell_type": "code",
   "execution_count": null,
   "metadata": {},
   "outputs": [],
   "source": [
    "if \"Budapest\" in d:\n",
    "    print(\"Budapest ist im Dictionary enthalten\")\n",
    "if \"Saigon\" in d:\n",
    "    print(\"Saigon ist im Dicionary enthalten\")"
   ]
  },
  {
   "cell_type": "markdown",
   "metadata": {},
   "source": [
    "## Auf Elemente zugreifen..."
   ]
  },
  {
   "cell_type": "code",
   "execution_count": null,
   "metadata": {},
   "outputs": [],
   "source": [
    "print(d[\"Saigon\"])\n",
    "print(d.get(\"Saigon\"))"
   ]
  },
  {
   "cell_type": "markdown",
   "metadata": {},
   "source": [
    "Warum sollte man get nutzen? Man kann doch auch einfach so drauf zugreifen? Die Lösung ist einfach aber sehr praktisch. Fehlertoleranz."
   ]
  },
  {
   "cell_type": "code",
   "execution_count": null,
   "metadata": {},
   "outputs": [],
   "source": [
    "print(d[\"Budapest\"])"
   ]
  },
  {
   "cell_type": "code",
   "execution_count": null,
   "metadata": {
    "scrolled": true
   },
   "outputs": [],
   "source": [
    "print(d.get(\"Budapest\"))"
   ]
  },
  {
   "cell_type": "markdown",
   "metadata": {},
   "source": [
    "## Dictionaries und Schleifen\n",
    "\n",
    "Du hast bei Dictionaries 2 Möglichkeiten, diese mit einer for - Schleife durchzugehen.\n",
    "\n",
    "Entweder direkt, dann gehst du die Schlüssel durch:"
   ]
  },
  {
   "cell_type": "code",
   "execution_count": null,
   "metadata": {},
   "outputs": [],
   "source": [
    "d = {\"München\": \"MUC\", \"Budapest\": \"BUD\", \"Helsinki\": \"HEL\"}\n",
    "\n",
    "for key in d: \n",
    "    value = d[key]\n",
    "    print(key, \":\", value)"
   ]
  },
  {
   "cell_type": "markdown",
   "metadata": {},
   "source": [
    "Oder über die .items() - Methode, damit kannst du Schlüssel + Wert direkt durchgehen:"
   ]
  },
  {
   "cell_type": "code",
   "execution_count": null,
   "metadata": {
    "scrolled": true
   },
   "outputs": [],
   "source": [
    "for key, value in d.items():\n",
    "    print(key + \": \" + value)"
   ]
  },
  {
   "cell_type": "markdown",
   "metadata": {},
   "source": [
    "## Übung \n",
    "Wie oft kommt jedes Wort in der liste vor?"
   ]
  },
  {
   "cell_type": "code",
   "execution_count": null,
   "metadata": {},
   "outputs": [],
   "source": [
    "liste = [\"Hallo\", \"Hallo\", \"Welt\", \"Hallo\", \"Mars\"]\n",
    "\n",
    "dict_count = {}\n",
    "\n",
    "for i in liste:\n",
    "    if i not in dict_count:\n",
    "        dict_count[i] = 1\n",
    "    else:\n",
    "        dict_count[i] += 1\n",
    "print(dict_count)\n"
   ]
  },
  {
   "cell_type": "markdown",
   "metadata": {},
   "source": [
    "## Übung Hardcore"
   ]
  },
  {
   "cell_type": "markdown",
   "metadata": {},
   "source": [
    "Für diejenigen die eine Herausforderung suchen, gibts hier auch einen echten datensatz. http://p3.snf.ch/Pages/DataAndDocumentation.aspx"
   ]
  },
  {
   "cell_type": "code",
   "execution_count": null,
   "metadata": {},
   "outputs": [],
   "source": [
    "#import requests\n",
    "#import csv\n",
    "#data = requests.get(\"http://p3.snf.ch/P3Export/P3_PersonExport.csv\").text.splitlines()\n",
    "#personen = csv.DictReader(data,delimiter=';')"
   ]
  },
  {
   "cell_type": "code",
   "execution_count": null,
   "metadata": {},
   "outputs": [],
   "source": []
  },
  {
   "cell_type": "markdown",
   "metadata": {},
   "source": [
    "### So sieht ein Datensatz aus:"
   ]
  },
  {
   "cell_type": "code",
   "execution_count": null,
   "metadata": {},
   "outputs": [],
   "source": [
    "next(personen)"
   ]
  },
  {
   "cell_type": "markdown",
   "metadata": {},
   "source": [
    "Welche Institute hatten die meisten beiteiligten Personen?"
   ]
  },
  {
   "cell_type": "code",
   "execution_count": null,
   "metadata": {},
   "outputs": [],
   "source": [
    "# *** Original ***\n",
    "# institutes = {}\n",
    "# for row in personen:\n",
    "# dein code hier"
   ]
  },
  {
   "cell_type": "code",
   "execution_count": 1,
   "metadata": {},
   "outputs": [
    {
     "name": "stderr",
     "output_type": "stream",
     "text": [
      "IOPub data rate exceeded.\n",
      "The notebook server will temporarily stop sending output\n",
      "to the client in order to avoid crashing it.\n",
      "To change this limit, set the config variable\n",
      "`--NotebookApp.iopub_data_rate_limit`.\n",
      "\n",
      "Current values:\n",
      "NotebookApp.iopub_data_rate_limit=1000000.0 (bytes/sec)\n",
      "NotebookApp.rate_limit_window=3.0 (secs)\n",
      "\n"
     ]
    }
   ],
   "source": [
    "file = open(\"P3_PersonExport.csv\", \"r\")\n",
    "#personen = csv.DictReader(data,delimiter=';')\n",
    "\n",
    "institutes = {}\n",
    "\n",
    "     \n",
    "\n",
    "for row in file:\n",
    "    data = row.split(\";\") \n",
    "    if row[7] not in institutes:\n",
    "        institutes[row] = 1\n",
    "    else:\n",
    "        institutes[row] += 1\n",
    "\n",
    "print(institutes)\n",
    "    "
   ]
  },
  {
   "cell_type": "code",
   "execution_count": null,
   "metadata": {},
   "outputs": [],
   "source": [
    "liste = [\"Hallo\", \"Hallo\", \"Welt\", \"Hallo\", \"Mars\"]\n",
    "\n",
    "dict_count = {}\n",
    "\n",
    "for i in liste:\n",
    "    if i not in dict_count:\n",
    "        dict_count[i] = 1\n",
    "    else:\n",
    "        dict_count[i] += 1\n",
    "print(dict_count)\n"
   ]
  }
 ],
 "metadata": {
  "kernelspec": {
   "display_name": "Python 3",
   "language": "python",
   "name": "python3"
  },
  "language_info": {
   "codemirror_mode": {
    "name": "ipython",
    "version": 3
   },
   "file_extension": ".py",
   "mimetype": "text/x-python",
   "name": "python",
   "nbconvert_exporter": "python",
   "pygments_lexer": "ipython3",
   "version": "3.7.3"
  }
 },
 "nbformat": 4,
 "nbformat_minor": 2
}
